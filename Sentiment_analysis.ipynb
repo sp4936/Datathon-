{
 "cells": [
  {
   "cell_type": "code",
   "execution_count": 1,
   "id": "8ae96613",
   "metadata": {},
   "outputs": [],
   "source": [
    "import warnings \n",
    "warnings.filterwarnings('ignore')\n",
    "import pandas as pd\n",
    "import numpy as np"
   ]
  },
  {
   "cell_type": "code",
   "execution_count": 2,
   "id": "760a2037",
   "metadata": {},
   "outputs": [
    {
     "data": {
      "text/html": [
       "<div>\n",
       "<style scoped>\n",
       "    .dataframe tbody tr th:only-of-type {\n",
       "        vertical-align: middle;\n",
       "    }\n",
       "\n",
       "    .dataframe tbody tr th {\n",
       "        vertical-align: top;\n",
       "    }\n",
       "\n",
       "    .dataframe thead th {\n",
       "        text-align: right;\n",
       "    }\n",
       "</style>\n",
       "<table border=\"1\" class=\"dataframe\">\n",
       "  <thead>\n",
       "    <tr style=\"text-align: right;\">\n",
       "      <th></th>\n",
       "      <th>Unnamed: 0</th>\n",
       "      <th>product</th>\n",
       "      <th>narrative</th>\n",
       "    </tr>\n",
       "  </thead>\n",
       "  <tbody>\n",
       "    <tr>\n",
       "      <th>0</th>\n",
       "      <td>0</td>\n",
       "      <td>credit_card</td>\n",
       "      <td>purchase order day shipping amount receive pro...</td>\n",
       "    </tr>\n",
       "    <tr>\n",
       "      <th>1</th>\n",
       "      <td>1</td>\n",
       "      <td>credit_card</td>\n",
       "      <td>forwarded message date tue subject please inve...</td>\n",
       "    </tr>\n",
       "    <tr>\n",
       "      <th>2</th>\n",
       "      <td>2</td>\n",
       "      <td>retail_banking</td>\n",
       "      <td>forwarded message cc sent friday pdt subject f...</td>\n",
       "    </tr>\n",
       "    <tr>\n",
       "      <th>3</th>\n",
       "      <td>3</td>\n",
       "      <td>credit_reporting</td>\n",
       "      <td>payment history missing credit report speciali...</td>\n",
       "    </tr>\n",
       "    <tr>\n",
       "      <th>4</th>\n",
       "      <td>4</td>\n",
       "      <td>credit_reporting</td>\n",
       "      <td>payment history missing credit report made mis...</td>\n",
       "    </tr>\n",
       "  </tbody>\n",
       "</table>\n",
       "</div>"
      ],
      "text/plain": [
       "   Unnamed: 0           product  \\\n",
       "0           0       credit_card   \n",
       "1           1       credit_card   \n",
       "2           2    retail_banking   \n",
       "3           3  credit_reporting   \n",
       "4           4  credit_reporting   \n",
       "\n",
       "                                           narrative  \n",
       "0  purchase order day shipping amount receive pro...  \n",
       "1  forwarded message date tue subject please inve...  \n",
       "2  forwarded message cc sent friday pdt subject f...  \n",
       "3  payment history missing credit report speciali...  \n",
       "4  payment history missing credit report made mis...  "
      ]
     },
     "execution_count": 2,
     "metadata": {},
     "output_type": "execute_result"
    }
   ],
   "source": [
    "df = pd.read_excel('Copy of Team_3_-_Complaints(1).xlsx')\n",
    "df.head()"
   ]
  },
  {
   "cell_type": "code",
   "execution_count": 3,
   "id": "f36efd76",
   "metadata": {},
   "outputs": [],
   "source": [
    "df.rename(columns={'Unnamed: 0':'Complaint_No'},inplace=True)"
   ]
  },
  {
   "cell_type": "code",
   "execution_count": 4,
   "id": "7e79b472",
   "metadata": {},
   "outputs": [
    {
     "data": {
      "text/html": [
       "<div>\n",
       "<style scoped>\n",
       "    .dataframe tbody tr th:only-of-type {\n",
       "        vertical-align: middle;\n",
       "    }\n",
       "\n",
       "    .dataframe tbody tr th {\n",
       "        vertical-align: top;\n",
       "    }\n",
       "\n",
       "    .dataframe thead th {\n",
       "        text-align: right;\n",
       "    }\n",
       "</style>\n",
       "<table border=\"1\" class=\"dataframe\">\n",
       "  <thead>\n",
       "    <tr style=\"text-align: right;\">\n",
       "      <th></th>\n",
       "      <th>Complaint_No</th>\n",
       "      <th>product</th>\n",
       "      <th>narrative</th>\n",
       "    </tr>\n",
       "  </thead>\n",
       "  <tbody>\n",
       "    <tr>\n",
       "      <th>0</th>\n",
       "      <td>0</td>\n",
       "      <td>credit_card</td>\n",
       "      <td>purchase order day shipping amount receive pro...</td>\n",
       "    </tr>\n",
       "    <tr>\n",
       "      <th>1</th>\n",
       "      <td>1</td>\n",
       "      <td>credit_card</td>\n",
       "      <td>forwarded message date tue subject please inve...</td>\n",
       "    </tr>\n",
       "    <tr>\n",
       "      <th>2</th>\n",
       "      <td>2</td>\n",
       "      <td>retail_banking</td>\n",
       "      <td>forwarded message cc sent friday pdt subject f...</td>\n",
       "    </tr>\n",
       "    <tr>\n",
       "      <th>3</th>\n",
       "      <td>3</td>\n",
       "      <td>credit_reporting</td>\n",
       "      <td>payment history missing credit report speciali...</td>\n",
       "    </tr>\n",
       "    <tr>\n",
       "      <th>4</th>\n",
       "      <td>4</td>\n",
       "      <td>credit_reporting</td>\n",
       "      <td>payment history missing credit report made mis...</td>\n",
       "    </tr>\n",
       "  </tbody>\n",
       "</table>\n",
       "</div>"
      ],
      "text/plain": [
       "   Complaint_No           product  \\\n",
       "0             0       credit_card   \n",
       "1             1       credit_card   \n",
       "2             2    retail_banking   \n",
       "3             3  credit_reporting   \n",
       "4             4  credit_reporting   \n",
       "\n",
       "                                           narrative  \n",
       "0  purchase order day shipping amount receive pro...  \n",
       "1  forwarded message date tue subject please inve...  \n",
       "2  forwarded message cc sent friday pdt subject f...  \n",
       "3  payment history missing credit report speciali...  \n",
       "4  payment history missing credit report made mis...  "
      ]
     },
     "execution_count": 4,
     "metadata": {},
     "output_type": "execute_result"
    }
   ],
   "source": [
    "df.head()"
   ]
  },
  {
   "cell_type": "code",
   "execution_count": 5,
   "id": "3d56b631",
   "metadata": {},
   "outputs": [
    {
     "data": {
      "text/plain": [
       "array(['credit_card', 'retail_banking', 'credit_reporting',\n",
       "       'mortgages_and_loans', 'debt_collection'], dtype=object)"
      ]
     },
     "execution_count": 5,
     "metadata": {},
     "output_type": "execute_result"
    }
   ],
   "source": [
    "unique = df[\"product\"].unique()\n",
    "unique"
   ]
  },
  {
   "cell_type": "code",
   "execution_count": 6,
   "id": "888ca69b",
   "metadata": {},
   "outputs": [],
   "source": [
    "import matplotlib.pyplot as plt\n",
    "import seaborn as sns"
   ]
  },
  {
   "cell_type": "code",
   "execution_count": 7,
   "id": "4b0da656",
   "metadata": {},
   "outputs": [
    {
     "data": {
      "image/png": "[encoded data removed]",
      "text/plain": [
       "<Figure size 640x480 with 1 Axes>"
      ]
     },
     "metadata": {},
     "output_type": "display_data"
    },
    {
     "data": {
      "image/png": "[encoded data removed]",
      "text/plain": [
       "<Figure size 640x480 with 1 Axes>"
      ]
     },
     "metadata": {},
     "output_type": "display_data"
    }
   ],
   "source": [
    "sns.countplot(x = 'product',data = df)\n",
    "plt.title('Distribution of complaints by product')\n",
    "plt.xticks(rotation = 45)\n",
    "plt.show()\n",
    "\n",
    "df['narrative_length']=df['narrative'].apply(lambda x: len(str(x)) if pd.notnull(x) else 0)\n",
    "sns.histplot(df['narrative_length'])\n",
    "plt.title('Distribution of Narrative Lengths')\n",
    "plt.xticks(rotation=45)  # Rotate x-axis labels for better visibility\n",
    "plt.show()"
   ]
  },
  {
   "cell_type": "code",
   "execution_count": 8,
   "id": "d9a6d01f",
   "metadata": {},
   "outputs": [
    {
     "data": {
      "text/html": [
       "<div>\n",
       "<style scoped>\n",
       "    .dataframe tbody tr th:only-of-type {\n",
       "        vertical-align: middle;\n",
       "    }\n",
       "\n",
       "    .dataframe tbody tr th {\n",
       "        vertical-align: top;\n",
       "    }\n",
       "\n",
       "    .dataframe thead th {\n",
       "        text-align: right;\n",
       "    }\n",
       "</style>\n",
       "<table border=\"1\" class=\"dataframe\">\n",
       "  <thead>\n",
       "    <tr style=\"text-align: right;\">\n",
       "      <th></th>\n",
       "      <th>Complaint_No</th>\n",
       "      <th>product</th>\n",
       "      <th>narrative</th>\n",
       "      <th>narrative_length</th>\n",
       "      <th>credit_card</th>\n",
       "      <th>credit_reporting</th>\n",
       "      <th>debt_collection</th>\n",
       "      <th>mortgages_and_loans</th>\n",
       "      <th>retail_banking</th>\n",
       "    </tr>\n",
       "  </thead>\n",
       "  <tbody>\n",
       "    <tr>\n",
       "      <th>0</th>\n",
       "      <td>0</td>\n",
       "      <td>credit_card</td>\n",
       "      <td>purchase order day shipping amount receive pro...</td>\n",
       "      <td>1705</td>\n",
       "      <td>1</td>\n",
       "      <td>0</td>\n",
       "      <td>0</td>\n",
       "      <td>0</td>\n",
       "      <td>0</td>\n",
       "    </tr>\n",
       "    <tr>\n",
       "      <th>1</th>\n",
       "      <td>1</td>\n",
       "      <td>credit_card</td>\n",
       "      <td>forwarded message date tue subject please inve...</td>\n",
       "      <td>904</td>\n",
       "      <td>1</td>\n",
       "      <td>0</td>\n",
       "      <td>0</td>\n",
       "      <td>0</td>\n",
       "      <td>0</td>\n",
       "    </tr>\n",
       "    <tr>\n",
       "      <th>2</th>\n",
       "      <td>2</td>\n",
       "      <td>retail_banking</td>\n",
       "      <td>forwarded message cc sent friday pdt subject f...</td>\n",
       "      <td>1230</td>\n",
       "      <td>0</td>\n",
       "      <td>0</td>\n",
       "      <td>0</td>\n",
       "      <td>0</td>\n",
       "      <td>1</td>\n",
       "    </tr>\n",
       "    <tr>\n",
       "      <th>3</th>\n",
       "      <td>3</td>\n",
       "      <td>credit_reporting</td>\n",
       "      <td>payment history missing credit report speciali...</td>\n",
       "      <td>903</td>\n",
       "      <td>0</td>\n",
       "      <td>1</td>\n",
       "      <td>0</td>\n",
       "      <td>0</td>\n",
       "      <td>0</td>\n",
       "    </tr>\n",
       "    <tr>\n",
       "      <th>4</th>\n",
       "      <td>4</td>\n",
       "      <td>credit_reporting</td>\n",
       "      <td>payment history missing credit report made mis...</td>\n",
       "      <td>851</td>\n",
       "      <td>0</td>\n",
       "      <td>1</td>\n",
       "      <td>0</td>\n",
       "      <td>0</td>\n",
       "      <td>0</td>\n",
       "    </tr>\n",
       "  </tbody>\n",
       "</table>\n",
       "</div>"
      ],
      "text/plain": [
       "   Complaint_No           product  \\\n",
       "0             0       credit_card   \n",
       "1             1       credit_card   \n",
       "2             2    retail_banking   \n",
       "3             3  credit_reporting   \n",
       "4             4  credit_reporting   \n",
       "\n",
       "                                           narrative  narrative_length  \\\n",
       "0  purchase order day shipping amount receive pro...              1705   \n",
       "1  forwarded message date tue subject please inve...               904   \n",
       "2  forwarded message cc sent friday pdt subject f...              1230   \n",
       "3  payment history missing credit report speciali...               903   \n",
       "4  payment history missing credit report made mis...               851   \n",
       "\n",
       "   credit_card  credit_reporting  debt_collection  mortgages_and_loans  \\\n",
       "0            1                 0                0                    0   \n",
       "1            1                 0                0                    0   \n",
       "2            0                 0                0                    0   \n",
       "3            0                 1                0                    0   \n",
       "4            0                 1                0                    0   \n",
       "\n",
       "   retail_banking  \n",
       "0               0  \n",
       "1               0  \n",
       "2               1  \n",
       "3               0  \n",
       "4               0  "
      ]
     },
     "execution_count": 8,
     "metadata": {},
     "output_type": "execute_result"
    }
   ],
   "source": [
    "df_encoded = pd.get_dummies(df['product'])\n",
    "df = pd.concat([df, df_encoded], axis=1)\n",
    "df.head()"
   ]
  },
  {
   "cell_type": "code",
   "execution_count": 9,
   "id": "effc74b9",
   "metadata": {},
   "outputs": [],
   "source": [
    "df = df.drop('product',axis = 1)"
   ]
  },
  {
   "cell_type": "code",
   "execution_count": 10,
   "id": "67d804a2",
   "metadata": {},
   "outputs": [
    {
     "data": {
      "text/html": [
       "<div>\n",
       "<style scoped>\n",
       "    .dataframe tbody tr th:only-of-type {\n",
       "        vertical-align: middle;\n",
       "    }\n",
       "\n",
       "    .dataframe tbody tr th {\n",
       "        vertical-align: top;\n",
       "    }\n",
       "\n",
       "    .dataframe thead th {\n",
       "        text-align: right;\n",
       "    }\n",
       "</style>\n",
       "<table border=\"1\" class=\"dataframe\">\n",
       "  <thead>\n",
       "    <tr style=\"text-align: right;\">\n",
       "      <th></th>\n",
       "      <th>Complaint_No</th>\n",
       "      <th>narrative</th>\n",
       "      <th>narrative_length</th>\n",
       "      <th>credit_card</th>\n",
       "      <th>credit_reporting</th>\n",
       "      <th>debt_collection</th>\n",
       "      <th>mortgages_and_loans</th>\n",
       "      <th>retail_banking</th>\n",
       "    </tr>\n",
       "  </thead>\n",
       "  <tbody>\n",
       "    <tr>\n",
       "      <th>0</th>\n",
       "      <td>0</td>\n",
       "      <td>purchase order day shipping amount receive pro...</td>\n",
       "      <td>1705</td>\n",
       "      <td>1</td>\n",
       "      <td>0</td>\n",
       "      <td>0</td>\n",
       "      <td>0</td>\n",
       "      <td>0</td>\n",
       "    </tr>\n",
       "    <tr>\n",
       "      <th>1</th>\n",
       "      <td>1</td>\n",
       "      <td>forwarded message date tue subject please inve...</td>\n",
       "      <td>904</td>\n",
       "      <td>1</td>\n",
       "      <td>0</td>\n",
       "      <td>0</td>\n",
       "      <td>0</td>\n",
       "      <td>0</td>\n",
       "    </tr>\n",
       "    <tr>\n",
       "      <th>2</th>\n",
       "      <td>2</td>\n",
       "      <td>forwarded message cc sent friday pdt subject f...</td>\n",
       "      <td>1230</td>\n",
       "      <td>0</td>\n",
       "      <td>0</td>\n",
       "      <td>0</td>\n",
       "      <td>0</td>\n",
       "      <td>1</td>\n",
       "    </tr>\n",
       "    <tr>\n",
       "      <th>3</th>\n",
       "      <td>3</td>\n",
       "      <td>payment history missing credit report speciali...</td>\n",
       "      <td>903</td>\n",
       "      <td>0</td>\n",
       "      <td>1</td>\n",
       "      <td>0</td>\n",
       "      <td>0</td>\n",
       "      <td>0</td>\n",
       "    </tr>\n",
       "    <tr>\n",
       "      <th>4</th>\n",
       "      <td>4</td>\n",
       "      <td>payment history missing credit report made mis...</td>\n",
       "      <td>851</td>\n",
       "      <td>0</td>\n",
       "      <td>1</td>\n",
       "      <td>0</td>\n",
       "      <td>0</td>\n",
       "      <td>0</td>\n",
       "    </tr>\n",
       "  </tbody>\n",
       "</table>\n",
       "</div>"
      ],
      "text/plain": [
       "   Complaint_No                                          narrative  \\\n",
       "0             0  purchase order day shipping amount receive pro...   \n",
       "1             1  forwarded message date tue subject please inve...   \n",
       "2             2  forwarded message cc sent friday pdt subject f...   \n",
       "3             3  payment history missing credit report speciali...   \n",
       "4             4  payment history missing credit report made mis...   \n",
       "\n",
       "   narrative_length  credit_card  credit_reporting  debt_collection  \\\n",
       "0              1705            1                 0                0   \n",
       "1               904            1                 0                0   \n",
       "2              1230            0                 0                0   \n",
       "3               903            0                 1                0   \n",
       "4               851            0                 1                0   \n",
       "\n",
       "   mortgages_and_loans  retail_banking  \n",
       "0                    0               0  \n",
       "1                    0               0  \n",
       "2                    0               1  \n",
       "3                    0               0  \n",
       "4                    0               0  "
      ]
     },
     "execution_count": 10,
     "metadata": {},
     "output_type": "execute_result"
    }
   ],
   "source": [
    "df.head()"
   ]
  },
  {
   "cell_type": "code",
   "execution_count": 11,
   "id": "b569f1ea",
   "metadata": {},
   "outputs": [
    {
     "name": "stdout",
     "output_type": "stream",
     "text": [
      "<class 'pandas.core.frame.DataFrame'>\n",
      "RangeIndex: 162421 entries, 0 to 162420\n",
      "Data columns (total 8 columns):\n",
      " #   Column               Non-Null Count   Dtype \n",
      "---  ------               --------------   ----- \n",
      " 0   Complaint_No         162421 non-null  int64 \n",
      " 1   narrative            162411 non-null  object\n",
      " 2   narrative_length     162421 non-null  int64 \n",
      " 3   credit_card          162421 non-null  uint8 \n",
      " 4   credit_reporting     162421 non-null  uint8 \n",
      " 5   debt_collection      162421 non-null  uint8 \n",
      " 6   mortgages_and_loans  162421 non-null  uint8 \n",
      " 7   retail_banking       162421 non-null  uint8 \n",
      "dtypes: int64(2), object(1), uint8(5)\n",
      "memory usage: 4.5+ MB\n"
     ]
    }
   ],
   "source": [
    "df.info()"
   ]
  },
  {
   "cell_type": "code",
   "execution_count": 12,
   "id": "0aab6d87",
   "metadata": {},
   "outputs": [
    {
     "data": {
      "text/plain": [
       "Complaint_No            0\n",
       "narrative              10\n",
       "narrative_length        0\n",
       "credit_card             0\n",
       "credit_reporting        0\n",
       "debt_collection         0\n",
       "mortgages_and_loans     0\n",
       "retail_banking          0\n",
       "dtype: int64"
      ]
     },
     "execution_count": 12,
     "metadata": {},
     "output_type": "execute_result"
    }
   ],
   "source": [
    "df.isnull().sum()"
   ]
  },
  {
   "cell_type": "code",
   "execution_count": 13,
   "id": "42817687",
   "metadata": {},
   "outputs": [],
   "source": [
    "df = df.dropna()"
   ]
  },
  {
   "cell_type": "code",
   "execution_count": 14,
   "id": "b157e1e6",
   "metadata": {},
   "outputs": [
    {
     "data": {
      "text/plain": [
       "Complaint_No           0\n",
       "narrative              0\n",
       "narrative_length       0\n",
       "credit_card            0\n",
       "credit_reporting       0\n",
       "debt_collection        0\n",
       "mortgages_and_loans    0\n",
       "retail_banking         0\n",
       "dtype: int64"
      ]
     },
     "execution_count": 14,
     "metadata": {},
     "output_type": "execute_result"
    }
   ],
   "source": [
    "df.isnull().sum()"
   ]
  },
  {
   "cell_type": "code",
   "execution_count": 15,
   "id": "23e6d5c3",
   "metadata": {},
   "outputs": [
    {
     "data": {
      "text/plain": [
       "0"
      ]
     },
     "execution_count": 15,
     "metadata": {},
     "output_type": "execute_result"
    }
   ],
   "source": [
    "df.duplicated().sum()"
   ]
  },
  {
   "cell_type": "code",
   "execution_count": 16,
   "id": "71ea82bc",
   "metadata": {},
   "outputs": [
    {
     "data": {
      "image/png": "[encoded data removed]",
      "text/plain": [
       "<Figure size 1500x400 with 5 Axes>"
      ]
     },
     "metadata": {},
     "output_type": "display_data"
    }
   ],
   "source": [
    "import matplotlib.pyplot as plt\n",
    "# Count occurrences of each value in each column\n",
    "counts_credit_card = df[\"credit_card\"].value_counts()\n",
    "counts_credit_reporting = df[\"credit_reporting\"].value_counts()\n",
    "counts_debt_collection = df[\"debt_collection\"].value_counts()\n",
    "counts_mortgages_and_loans = df[\"mortgages_and_loans\"].value_counts()\n",
    "counts_retail_banking = df[\"retail_banking\"].value_counts()\n",
    "\n",
    "# Plotting\n",
    "fig, axes = plt.subplots(nrows=1, ncols=5, figsize=(15, 4))\n",
    "\n",
    "# Plot for 'credit_card' column\n",
    "axes[0].bar(counts_credit_card.index, counts_credit_card.values)\n",
    "axes[0].set_title('Credit Card')\n",
    "\n",
    "# Plot for 'credit_reporting' column\n",
    "axes[1].bar(counts_credit_reporting.index, counts_credit_reporting.values)\n",
    "axes[1].set_title('Credit Reporting')\n",
    "\n",
    "# Plot for 'debt_collection' column\n",
    "axes[2].bar(counts_debt_collection.index, counts_debt_collection.values)\n",
    "axes[2].set_title('Debt Collection')\n",
    "\n",
    "# Plot for 'mortgages_and_loans' column\n",
    "axes[3].bar(counts_mortgages_and_loans.index, counts_mortgages_and_loans.values)\n",
    "axes[3].set_title('Mortgages and Loans')\n",
    "\n",
    "# Plot for 'retail_banking' column\n",
    "axes[4].bar(counts_retail_banking.index, counts_retail_banking.values)\n",
    "axes[4].set_title('Retail Banking')\n",
    "\n",
    "plt.tight_layout()\n",
    "plt.show()"
   ]
  },
  {
   "cell_type": "code",
   "execution_count": 17,
   "id": "5eeb4d55",
   "metadata": {},
   "outputs": [
    {
     "data": {
      "image/png": "[encoded data removed]",
      "text/plain": [
       "<Figure size 1000x600 with 1 Axes>"
      ]
     },
     "metadata": {},
     "output_type": "display_data"
    }
   ],
   "source": [
    "import seaborn as sns\n",
    "import matplotlib.pyplot as plt\n",
    "\n",
    "df_melted = pd.melt(df, value_vars=[\"credit_card\", \"credit_reporting\", \"debt_collection\", \"mortgages_and_loans\", \"retail_banking\"])\n",
    "\n",
    "# Convert the melted values to \"True\" and \"False\"\n",
    "df_melted[\"value\"] = df_melted[\"value\"].astype(bool)\n",
    "\n",
    "# Create a countplot\n",
    "plt.figure(figsize=(10, 6))\n",
    "sns.set(style=\"whitegrid\")\n",
    "ax = sns.countplot(x=\"variable\", hue=\"value\", data=df_melted)\n",
    "\n",
    "# Add labels and title\n",
    "ax.set(xlabel=\"Categories\", ylabel=\"Count\", title=\"Count of True and False for Each Category\")\n",
    "plt.xticks(rotation=45)  # Rotate x-axis labels for better visibility\n",
    "plt.show()\n"
   ]
  },
  {
   "cell_type": "markdown",
   "id": "fae4fda5",
   "metadata": {},
   "source": [
    "## Text preperation"
   ]
  },
  {
   "cell_type": "code",
   "execution_count": 18,
   "id": "aee35604",
   "metadata": {},
   "outputs": [
    {
     "data": {
      "text/html": [
       "<div>\n",
       "<style scoped>\n",
       "    .dataframe tbody tr th:only-of-type {\n",
       "        vertical-align: middle;\n",
       "    }\n",
       "\n",
       "    .dataframe tbody tr th {\n",
       "        vertical-align: top;\n",
       "    }\n",
       "\n",
       "    .dataframe thead th {\n",
       "        text-align: right;\n",
       "    }\n",
       "</style>\n",
       "<table border=\"1\" class=\"dataframe\">\n",
       "  <thead>\n",
       "    <tr style=\"text-align: right;\">\n",
       "      <th></th>\n",
       "      <th>Complaint_No</th>\n",
       "      <th>narrative</th>\n",
       "      <th>narrative_length</th>\n",
       "      <th>credit_card</th>\n",
       "      <th>credit_reporting</th>\n",
       "      <th>debt_collection</th>\n",
       "      <th>mortgages_and_loans</th>\n",
       "      <th>retail_banking</th>\n",
       "    </tr>\n",
       "  </thead>\n",
       "  <tbody>\n",
       "    <tr>\n",
       "      <th>0</th>\n",
       "      <td>0</td>\n",
       "      <td>purchase order day shipping amount receive pro...</td>\n",
       "      <td>1705</td>\n",
       "      <td>1</td>\n",
       "      <td>0</td>\n",
       "      <td>0</td>\n",
       "      <td>0</td>\n",
       "      <td>0</td>\n",
       "    </tr>\n",
       "    <tr>\n",
       "      <th>1</th>\n",
       "      <td>1</td>\n",
       "      <td>forwarded message date tue subject please inve...</td>\n",
       "      <td>904</td>\n",
       "      <td>1</td>\n",
       "      <td>0</td>\n",
       "      <td>0</td>\n",
       "      <td>0</td>\n",
       "      <td>0</td>\n",
       "    </tr>\n",
       "    <tr>\n",
       "      <th>2</th>\n",
       "      <td>2</td>\n",
       "      <td>forwarded message cc sent friday pdt subject f...</td>\n",
       "      <td>1230</td>\n",
       "      <td>0</td>\n",
       "      <td>0</td>\n",
       "      <td>0</td>\n",
       "      <td>0</td>\n",
       "      <td>1</td>\n",
       "    </tr>\n",
       "    <tr>\n",
       "      <th>3</th>\n",
       "      <td>3</td>\n",
       "      <td>payment history missing credit report speciali...</td>\n",
       "      <td>903</td>\n",
       "      <td>0</td>\n",
       "      <td>1</td>\n",
       "      <td>0</td>\n",
       "      <td>0</td>\n",
       "      <td>0</td>\n",
       "    </tr>\n",
       "    <tr>\n",
       "      <th>4</th>\n",
       "      <td>4</td>\n",
       "      <td>payment history missing credit report made mis...</td>\n",
       "      <td>851</td>\n",
       "      <td>0</td>\n",
       "      <td>1</td>\n",
       "      <td>0</td>\n",
       "      <td>0</td>\n",
       "      <td>0</td>\n",
       "    </tr>\n",
       "  </tbody>\n",
       "</table>\n",
       "</div>"
      ],
      "text/plain": [
       "   Complaint_No                                          narrative  \\\n",
       "0             0  purchase order day shipping amount receive pro...   \n",
       "1             1  forwarded message date tue subject please inve...   \n",
       "2             2  forwarded message cc sent friday pdt subject f...   \n",
       "3             3  payment history missing credit report speciali...   \n",
       "4             4  payment history missing credit report made mis...   \n",
       "\n",
       "   narrative_length  credit_card  credit_reporting  debt_collection  \\\n",
       "0              1705            1                 0                0   \n",
       "1               904            1                 0                0   \n",
       "2              1230            0                 0                0   \n",
       "3               903            0                 1                0   \n",
       "4               851            0                 1                0   \n",
       "\n",
       "   mortgages_and_loans  retail_banking  \n",
       "0                    0               0  \n",
       "1                    0               0  \n",
       "2                    0               1  \n",
       "3                    0               0  \n",
       "4                    0               0  "
      ]
     },
     "execution_count": 18,
     "metadata": {},
     "output_type": "execute_result"
    }
   ],
   "source": [
    "df[\"narrative\"]=df[\"narrative\"].str.lower()\n",
    "df.head()"
   ]
  },
  {
   "cell_type": "markdown",
   "id": "a0fb86b8",
   "metadata": {},
   "source": [
    "## 2- remove html tags"
   ]
  },
  {
   "cell_type": "code",
   "execution_count": 19,
   "id": "70072d5d",
   "metadata": {},
   "outputs": [
    {
     "name": "stdout",
     "output_type": "stream",
     "text": [
      "Requirement already satisfied: beautifulsoup4 in c:\\users\\suraj\\anaconda3\\lib\\site-packages (4.11.1)\n",
      "Requirement already satisfied: soupsieve>1.2 in c:\\users\\suraj\\anaconda3\\lib\\site-packages (from beautifulsoup4) (2.3.1)\n"
     ]
    }
   ],
   "source": [
    "!pip install beautifulsoup4"
   ]
  },
  {
   "cell_type": "code",
   "execution_count": 20,
   "id": "f945f58a",
   "metadata": {},
   "outputs": [],
   "source": [
    "from bs4 import BeautifulSoup\n",
    "\n",
    "## check if there is html tags\n",
    "\n",
    "def has_html_tags(text):\n",
    "    soup = BeautifulSoup(text, 'html.parser')\n",
    "    return bool(soup.find())\n",
    "\n",
    "df['has_html_tags'] = df['narrative'].apply(has_html_tags)"
   ]
  },
  {
   "cell_type": "code",
   "execution_count": 21,
   "id": "6df1467e",
   "metadata": {},
   "outputs": [
    {
     "data": {
      "text/html": [
       "<div>\n",
       "<style scoped>\n",
       "    .dataframe tbody tr th:only-of-type {\n",
       "        vertical-align: middle;\n",
       "    }\n",
       "\n",
       "    .dataframe tbody tr th {\n",
       "        vertical-align: top;\n",
       "    }\n",
       "\n",
       "    .dataframe thead th {\n",
       "        text-align: right;\n",
       "    }\n",
       "</style>\n",
       "<table border=\"1\" class=\"dataframe\">\n",
       "  <thead>\n",
       "    <tr style=\"text-align: right;\">\n",
       "      <th></th>\n",
       "      <th>Complaint_No</th>\n",
       "      <th>narrative</th>\n",
       "      <th>narrative_length</th>\n",
       "      <th>credit_card</th>\n",
       "      <th>credit_reporting</th>\n",
       "      <th>debt_collection</th>\n",
       "      <th>mortgages_and_loans</th>\n",
       "      <th>retail_banking</th>\n",
       "      <th>has_html_tags</th>\n",
       "    </tr>\n",
       "  </thead>\n",
       "  <tbody>\n",
       "    <tr>\n",
       "      <th>0</th>\n",
       "      <td>0</td>\n",
       "      <td>purchase order day shipping amount receive pro...</td>\n",
       "      <td>1705</td>\n",
       "      <td>1</td>\n",
       "      <td>0</td>\n",
       "      <td>0</td>\n",
       "      <td>0</td>\n",
       "      <td>0</td>\n",
       "      <td>False</td>\n",
       "    </tr>\n",
       "    <tr>\n",
       "      <th>1</th>\n",
       "      <td>1</td>\n",
       "      <td>forwarded message date tue subject please inve...</td>\n",
       "      <td>904</td>\n",
       "      <td>1</td>\n",
       "      <td>0</td>\n",
       "      <td>0</td>\n",
       "      <td>0</td>\n",
       "      <td>0</td>\n",
       "      <td>False</td>\n",
       "    </tr>\n",
       "    <tr>\n",
       "      <th>2</th>\n",
       "      <td>2</td>\n",
       "      <td>forwarded message cc sent friday pdt subject f...</td>\n",
       "      <td>1230</td>\n",
       "      <td>0</td>\n",
       "      <td>0</td>\n",
       "      <td>0</td>\n",
       "      <td>0</td>\n",
       "      <td>1</td>\n",
       "      <td>False</td>\n",
       "    </tr>\n",
       "    <tr>\n",
       "      <th>3</th>\n",
       "      <td>3</td>\n",
       "      <td>payment history missing credit report speciali...</td>\n",
       "      <td>903</td>\n",
       "      <td>0</td>\n",
       "      <td>1</td>\n",
       "      <td>0</td>\n",
       "      <td>0</td>\n",
       "      <td>0</td>\n",
       "      <td>False</td>\n",
       "    </tr>\n",
       "    <tr>\n",
       "      <th>4</th>\n",
       "      <td>4</td>\n",
       "      <td>payment history missing credit report made mis...</td>\n",
       "      <td>851</td>\n",
       "      <td>0</td>\n",
       "      <td>1</td>\n",
       "      <td>0</td>\n",
       "      <td>0</td>\n",
       "      <td>0</td>\n",
       "      <td>False</td>\n",
       "    </tr>\n",
       "  </tbody>\n",
       "</table>\n",
       "</div>"
      ],
      "text/plain": [
       "   Complaint_No                                          narrative  \\\n",
       "0             0  purchase order day shipping amount receive pro...   \n",
       "1             1  forwarded message date tue subject please inve...   \n",
       "2             2  forwarded message cc sent friday pdt subject f...   \n",
       "3             3  payment history missing credit report speciali...   \n",
       "4             4  payment history missing credit report made mis...   \n",
       "\n",
       "   narrative_length  credit_card  credit_reporting  debt_collection  \\\n",
       "0              1705            1                 0                0   \n",
       "1               904            1                 0                0   \n",
       "2              1230            0                 0                0   \n",
       "3               903            0                 1                0   \n",
       "4               851            0                 1                0   \n",
       "\n",
       "   mortgages_and_loans  retail_banking  has_html_tags  \n",
       "0                    0               0          False  \n",
       "1                    0               0          False  \n",
       "2                    0               1          False  \n",
       "3                    0               0          False  \n",
       "4                    0               0          False  "
      ]
     },
     "execution_count": 21,
     "metadata": {},
     "output_type": "execute_result"
    }
   ],
   "source": [
    "df.head()"
   ]
  },
  {
   "cell_type": "code",
   "execution_count": 22,
   "id": "4ac607ce",
   "metadata": {},
   "outputs": [
    {
     "data": {
      "text/plain": [
       "0"
      ]
     },
     "execution_count": 22,
     "metadata": {},
     "output_type": "execute_result"
    }
   ],
   "source": [
    "count_true = df['has_html_tags'].sum()\n",
    "count_true"
   ]
  },
  {
   "cell_type": "code",
   "execution_count": 23,
   "id": "5e2570ca",
   "metadata": {},
   "outputs": [
    {
     "data": {
      "text/html": [
       "<div>\n",
       "<style scoped>\n",
       "    .dataframe tbody tr th:only-of-type {\n",
       "        vertical-align: middle;\n",
       "    }\n",
       "\n",
       "    .dataframe tbody tr th {\n",
       "        vertical-align: top;\n",
       "    }\n",
       "\n",
       "    .dataframe thead th {\n",
       "        text-align: right;\n",
       "    }\n",
       "</style>\n",
       "<table border=\"1\" class=\"dataframe\">\n",
       "  <thead>\n",
       "    <tr style=\"text-align: right;\">\n",
       "      <th></th>\n",
       "      <th>Complaint_No</th>\n",
       "      <th>narrative</th>\n",
       "      <th>narrative_length</th>\n",
       "      <th>credit_card</th>\n",
       "      <th>credit_reporting</th>\n",
       "      <th>debt_collection</th>\n",
       "      <th>mortgages_and_loans</th>\n",
       "      <th>retail_banking</th>\n",
       "    </tr>\n",
       "  </thead>\n",
       "  <tbody>\n",
       "    <tr>\n",
       "      <th>0</th>\n",
       "      <td>0</td>\n",
       "      <td>purchase order day shipping amount receive pro...</td>\n",
       "      <td>1705</td>\n",
       "      <td>1</td>\n",
       "      <td>0</td>\n",
       "      <td>0</td>\n",
       "      <td>0</td>\n",
       "      <td>0</td>\n",
       "    </tr>\n",
       "    <tr>\n",
       "      <th>1</th>\n",
       "      <td>1</td>\n",
       "      <td>forwarded message date tue subject please inve...</td>\n",
       "      <td>904</td>\n",
       "      <td>1</td>\n",
       "      <td>0</td>\n",
       "      <td>0</td>\n",
       "      <td>0</td>\n",
       "      <td>0</td>\n",
       "    </tr>\n",
       "    <tr>\n",
       "      <th>2</th>\n",
       "      <td>2</td>\n",
       "      <td>forwarded message cc sent friday pdt subject f...</td>\n",
       "      <td>1230</td>\n",
       "      <td>0</td>\n",
       "      <td>0</td>\n",
       "      <td>0</td>\n",
       "      <td>0</td>\n",
       "      <td>1</td>\n",
       "    </tr>\n",
       "    <tr>\n",
       "      <th>3</th>\n",
       "      <td>3</td>\n",
       "      <td>payment history missing credit report speciali...</td>\n",
       "      <td>903</td>\n",
       "      <td>0</td>\n",
       "      <td>1</td>\n",
       "      <td>0</td>\n",
       "      <td>0</td>\n",
       "      <td>0</td>\n",
       "    </tr>\n",
       "    <tr>\n",
       "      <th>4</th>\n",
       "      <td>4</td>\n",
       "      <td>payment history missing credit report made mis...</td>\n",
       "      <td>851</td>\n",
       "      <td>0</td>\n",
       "      <td>1</td>\n",
       "      <td>0</td>\n",
       "      <td>0</td>\n",
       "      <td>0</td>\n",
       "    </tr>\n",
       "    <tr>\n",
       "      <th>...</th>\n",
       "      <td>...</td>\n",
       "      <td>...</td>\n",
       "      <td>...</td>\n",
       "      <td>...</td>\n",
       "      <td>...</td>\n",
       "      <td>...</td>\n",
       "      <td>...</td>\n",
       "      <td>...</td>\n",
       "    </tr>\n",
       "    <tr>\n",
       "      <th>162416</th>\n",
       "      <td>162416</td>\n",
       "      <td>name</td>\n",
       "      <td>4</td>\n",
       "      <td>0</td>\n",
       "      <td>0</td>\n",
       "      <td>1</td>\n",
       "      <td>0</td>\n",
       "      <td>0</td>\n",
       "    </tr>\n",
       "    <tr>\n",
       "      <th>162417</th>\n",
       "      <td>162417</td>\n",
       "      <td>name</td>\n",
       "      <td>4</td>\n",
       "      <td>1</td>\n",
       "      <td>0</td>\n",
       "      <td>0</td>\n",
       "      <td>0</td>\n",
       "      <td>0</td>\n",
       "    </tr>\n",
       "    <tr>\n",
       "      <th>162418</th>\n",
       "      <td>162418</td>\n",
       "      <td>name</td>\n",
       "      <td>4</td>\n",
       "      <td>0</td>\n",
       "      <td>0</td>\n",
       "      <td>1</td>\n",
       "      <td>0</td>\n",
       "      <td>0</td>\n",
       "    </tr>\n",
       "    <tr>\n",
       "      <th>162419</th>\n",
       "      <td>162419</td>\n",
       "      <td>name</td>\n",
       "      <td>4</td>\n",
       "      <td>1</td>\n",
       "      <td>0</td>\n",
       "      <td>0</td>\n",
       "      <td>0</td>\n",
       "      <td>0</td>\n",
       "    </tr>\n",
       "    <tr>\n",
       "      <th>162420</th>\n",
       "      <td>162420</td>\n",
       "      <td>name</td>\n",
       "      <td>4</td>\n",
       "      <td>0</td>\n",
       "      <td>1</td>\n",
       "      <td>0</td>\n",
       "      <td>0</td>\n",
       "      <td>0</td>\n",
       "    </tr>\n",
       "  </tbody>\n",
       "</table>\n",
       "<p>162411 rows × 8 columns</p>\n",
       "</div>"
      ],
      "text/plain": [
       "        Complaint_No                                          narrative  \\\n",
       "0                  0  purchase order day shipping amount receive pro...   \n",
       "1                  1  forwarded message date tue subject please inve...   \n",
       "2                  2  forwarded message cc sent friday pdt subject f...   \n",
       "3                  3  payment history missing credit report speciali...   \n",
       "4                  4  payment history missing credit report made mis...   \n",
       "...              ...                                                ...   \n",
       "162416        162416                                               name   \n",
       "162417        162417                                               name   \n",
       "162418        162418                                               name   \n",
       "162419        162419                                               name   \n",
       "162420        162420                                               name   \n",
       "\n",
       "        narrative_length  credit_card  credit_reporting  debt_collection  \\\n",
       "0                   1705            1                 0                0   \n",
       "1                    904            1                 0                0   \n",
       "2                   1230            0                 0                0   \n",
       "3                    903            0                 1                0   \n",
       "4                    851            0                 1                0   \n",
       "...                  ...          ...               ...              ...   \n",
       "162416                 4            0                 0                1   \n",
       "162417                 4            1                 0                0   \n",
       "162418                 4            0                 0                1   \n",
       "162419                 4            1                 0                0   \n",
       "162420                 4            0                 1                0   \n",
       "\n",
       "        mortgages_and_loans  retail_banking  \n",
       "0                         0               0  \n",
       "1                         0               0  \n",
       "2                         0               1  \n",
       "3                         0               0  \n",
       "4                         0               0  \n",
       "...                     ...             ...  \n",
       "162416                    0               0  \n",
       "162417                    0               0  \n",
       "162418                    0               0  \n",
       "162419                    0               0  \n",
       "162420                    0               0  \n",
       "\n",
       "[162411 rows x 8 columns]"
      ]
     },
     "execution_count": 23,
     "metadata": {},
     "output_type": "execute_result"
    }
   ],
   "source": [
    "df = df.drop('has_html_tags', axis=1)\n",
    "df"
   ]
  },
  {
   "cell_type": "markdown",
   "id": "f9c81a6c",
   "metadata": {},
   "source": [
    "## 3- remove emojies"
   ]
  },
  {
   "cell_type": "code",
   "execution_count": 24,
   "id": "eb328527",
   "metadata": {},
   "outputs": [
    {
     "name": "stdout",
     "output_type": "stream",
     "text": [
      "Collecting emoji\n",
      "  Downloading emoji-2.11.0-py2.py3-none-any.whl (433 kB)\n",
      "     -------------------------------------- 433.8/433.8 kB 2.7 MB/s eta 0:00:00\n",
      "Installing collected packages: emoji\n",
      "Successfully installed emoji-2.11.0\n"
     ]
    }
   ],
   "source": [
    "!pip install emoji"
   ]
  },
  {
   "cell_type": "code",
   "execution_count": 25,
   "id": "3bf0cb13",
   "metadata": {},
   "outputs": [
    {
     "name": "stdout",
     "output_type": "stream",
     "text": [
      "Requirement already satisfied: emoji in c:\\users\\suraj\\anaconda3\\lib\\site-packages (2.11.0)\n"
     ]
    }
   ],
   "source": [
    "!pip install --upgrade emoji"
   ]
  },
  {
   "cell_type": "code",
   "execution_count": 26,
   "id": "0bde3acc",
   "metadata": {},
   "outputs": [
    {
     "name": "stdout",
     "output_type": "stream",
     "text": [
      "Requirement already satisfied: regex in c:\\users\\suraj\\anaconda3\\lib\\site-packages (2022.7.9)\n"
     ]
    }
   ],
   "source": [
    "!pip install regex"
   ]
  },
  {
   "cell_type": "code",
   "execution_count": 27,
   "id": "03a54c39",
   "metadata": {},
   "outputs": [
    {
     "data": {
      "text/plain": [
       "0         False\n",
       "1         False\n",
       "2         False\n",
       "3         False\n",
       "4         False\n",
       "          ...  \n",
       "162416    False\n",
       "162417    False\n",
       "162418    False\n",
       "162419    False\n",
       "162420    False\n",
       "Name: narrative, Length: 162411, dtype: bool"
      ]
     },
     "execution_count": 27,
     "metadata": {},
     "output_type": "execute_result"
    }
   ],
   "source": [
    "import regex\n",
    "import pandas as pd\n",
    "\n",
    "# Function to check if a string contains emojis using a Unicode character property\n",
    "def has_emoji(text):\n",
    "    emoji_pattern = regex.compile(r'\\p{Emoji}', flags=regex.UNICODE)\n",
    "    return bool(emoji_pattern.search(text))\n",
    "\n",
    "\n",
    "has_emojis =  df['narrative'].apply(has_emoji)\n",
    "\n",
    "has_emojis"
   ]
  },
  {
   "cell_type": "code",
   "execution_count": 28,
   "id": "2ab9d9eb",
   "metadata": {},
   "outputs": [
    {
     "data": {
      "text/plain": [
       "0"
      ]
     },
     "execution_count": 28,
     "metadata": {},
     "output_type": "execute_result"
    }
   ],
   "source": [
    "has_emojis.sum()"
   ]
  },
  {
   "cell_type": "markdown",
   "id": "27bdfe29",
   "metadata": {},
   "source": [
    "## 4- remove URLs"
   ]
  },
  {
   "cell_type": "code",
   "execution_count": 29,
   "id": "c2c76310",
   "metadata": {},
   "outputs": [
    {
     "data": {
      "text/html": [
       "<div>\n",
       "<style scoped>\n",
       "    .dataframe tbody tr th:only-of-type {\n",
       "        vertical-align: middle;\n",
       "    }\n",
       "\n",
       "    .dataframe tbody tr th {\n",
       "        vertical-align: top;\n",
       "    }\n",
       "\n",
       "    .dataframe thead th {\n",
       "        text-align: right;\n",
       "    }\n",
       "</style>\n",
       "<table border=\"1\" class=\"dataframe\">\n",
       "  <thead>\n",
       "    <tr style=\"text-align: right;\">\n",
       "      <th></th>\n",
       "      <th>Complaint_No</th>\n",
       "      <th>narrative</th>\n",
       "      <th>narrative_length</th>\n",
       "      <th>credit_card</th>\n",
       "      <th>credit_reporting</th>\n",
       "      <th>debt_collection</th>\n",
       "      <th>mortgages_and_loans</th>\n",
       "      <th>retail_banking</th>\n",
       "    </tr>\n",
       "  </thead>\n",
       "  <tbody>\n",
       "    <tr>\n",
       "      <th>0</th>\n",
       "      <td>0</td>\n",
       "      <td>purchase order day shipping amount receive pro...</td>\n",
       "      <td>1705</td>\n",
       "      <td>1</td>\n",
       "      <td>0</td>\n",
       "      <td>0</td>\n",
       "      <td>0</td>\n",
       "      <td>0</td>\n",
       "    </tr>\n",
       "    <tr>\n",
       "      <th>1</th>\n",
       "      <td>1</td>\n",
       "      <td>forwarded message date tue subject please inve...</td>\n",
       "      <td>904</td>\n",
       "      <td>1</td>\n",
       "      <td>0</td>\n",
       "      <td>0</td>\n",
       "      <td>0</td>\n",
       "      <td>0</td>\n",
       "    </tr>\n",
       "    <tr>\n",
       "      <th>2</th>\n",
       "      <td>2</td>\n",
       "      <td>forwarded message cc sent friday pdt subject f...</td>\n",
       "      <td>1230</td>\n",
       "      <td>0</td>\n",
       "      <td>0</td>\n",
       "      <td>0</td>\n",
       "      <td>0</td>\n",
       "      <td>1</td>\n",
       "    </tr>\n",
       "    <tr>\n",
       "      <th>3</th>\n",
       "      <td>3</td>\n",
       "      <td>payment history missing credit report speciali...</td>\n",
       "      <td>903</td>\n",
       "      <td>0</td>\n",
       "      <td>1</td>\n",
       "      <td>0</td>\n",
       "      <td>0</td>\n",
       "      <td>0</td>\n",
       "    </tr>\n",
       "    <tr>\n",
       "      <th>4</th>\n",
       "      <td>4</td>\n",
       "      <td>payment history missing credit report made mis...</td>\n",
       "      <td>851</td>\n",
       "      <td>0</td>\n",
       "      <td>1</td>\n",
       "      <td>0</td>\n",
       "      <td>0</td>\n",
       "      <td>0</td>\n",
       "    </tr>\n",
       "  </tbody>\n",
       "</table>\n",
       "</div>"
      ],
      "text/plain": [
       "   Complaint_No                                          narrative  \\\n",
       "0             0  purchase order day shipping amount receive pro...   \n",
       "1             1  forwarded message date tue subject please inve...   \n",
       "2             2  forwarded message cc sent friday pdt subject f...   \n",
       "3             3  payment history missing credit report speciali...   \n",
       "4             4  payment history missing credit report made mis...   \n",
       "\n",
       "   narrative_length  credit_card  credit_reporting  debt_collection  \\\n",
       "0              1705            1                 0                0   \n",
       "1               904            1                 0                0   \n",
       "2              1230            0                 0                0   \n",
       "3               903            0                 1                0   \n",
       "4               851            0                 1                0   \n",
       "\n",
       "   mortgages_and_loans  retail_banking  \n",
       "0                    0               0  \n",
       "1                    0               0  \n",
       "2                    0               1  \n",
       "3                    0               0  \n",
       "4                    0               0  "
      ]
     },
     "execution_count": 29,
     "metadata": {},
     "output_type": "execute_result"
    }
   ],
   "source": [
    "import re\n",
    "def remove_url(text):\n",
    "    pattern=re.compile(r'https?://\\S+|www\\.S+')\n",
    "    return pattern.sub(r'',text)\n",
    "df[\"narrative\"]=df[\"narrative\"].apply(remove_url)\n",
    "\n",
    "df.head()"
   ]
  },
  {
   "cell_type": "markdown",
   "id": "6951cc81",
   "metadata": {},
   "source": [
    "## 5- Remove puncatution"
   ]
  },
  {
   "cell_type": "code",
   "execution_count": 30,
   "id": "6cddd249",
   "metadata": {},
   "outputs": [
    {
     "data": {
      "text/plain": [
       "'!\"#$%&\\'()*+,-./:;<=>?@[\\\\]^_`{|}~'"
      ]
     },
     "execution_count": 30,
     "metadata": {},
     "output_type": "execute_result"
    }
   ],
   "source": [
    "import string\n",
    "string.punctuation"
   ]
  },
  {
   "cell_type": "code",
   "execution_count": 31,
   "id": "be50d888",
   "metadata": {},
   "outputs": [],
   "source": [
    "punc=string.punctuation"
   ]
  },
  {
   "cell_type": "code",
   "execution_count": 32,
   "id": "5aa41a97",
   "metadata": {},
   "outputs": [
    {
     "data": {
      "text/html": [
       "<div>\n",
       "<style scoped>\n",
       "    .dataframe tbody tr th:only-of-type {\n",
       "        vertical-align: middle;\n",
       "    }\n",
       "\n",
       "    .dataframe tbody tr th {\n",
       "        vertical-align: top;\n",
       "    }\n",
       "\n",
       "    .dataframe thead th {\n",
       "        text-align: right;\n",
       "    }\n",
       "</style>\n",
       "<table border=\"1\" class=\"dataframe\">\n",
       "  <thead>\n",
       "    <tr style=\"text-align: right;\">\n",
       "      <th></th>\n",
       "      <th>Complaint_No</th>\n",
       "      <th>narrative</th>\n",
       "      <th>narrative_length</th>\n",
       "      <th>credit_card</th>\n",
       "      <th>credit_reporting</th>\n",
       "      <th>debt_collection</th>\n",
       "      <th>mortgages_and_loans</th>\n",
       "      <th>retail_banking</th>\n",
       "    </tr>\n",
       "  </thead>\n",
       "  <tbody>\n",
       "    <tr>\n",
       "      <th>0</th>\n",
       "      <td>0</td>\n",
       "      <td>purchase order day shipping amount receive pro...</td>\n",
       "      <td>1705</td>\n",
       "      <td>1</td>\n",
       "      <td>0</td>\n",
       "      <td>0</td>\n",
       "      <td>0</td>\n",
       "      <td>0</td>\n",
       "    </tr>\n",
       "    <tr>\n",
       "      <th>1</th>\n",
       "      <td>1</td>\n",
       "      <td>forwarded message date tue subject please inve...</td>\n",
       "      <td>904</td>\n",
       "      <td>1</td>\n",
       "      <td>0</td>\n",
       "      <td>0</td>\n",
       "      <td>0</td>\n",
       "      <td>0</td>\n",
       "    </tr>\n",
       "    <tr>\n",
       "      <th>2</th>\n",
       "      <td>2</td>\n",
       "      <td>forwarded message cc sent friday pdt subject f...</td>\n",
       "      <td>1230</td>\n",
       "      <td>0</td>\n",
       "      <td>0</td>\n",
       "      <td>0</td>\n",
       "      <td>0</td>\n",
       "      <td>1</td>\n",
       "    </tr>\n",
       "    <tr>\n",
       "      <th>3</th>\n",
       "      <td>3</td>\n",
       "      <td>payment history missing credit report speciali...</td>\n",
       "      <td>903</td>\n",
       "      <td>0</td>\n",
       "      <td>1</td>\n",
       "      <td>0</td>\n",
       "      <td>0</td>\n",
       "      <td>0</td>\n",
       "    </tr>\n",
       "    <tr>\n",
       "      <th>4</th>\n",
       "      <td>4</td>\n",
       "      <td>payment history missing credit report made mis...</td>\n",
       "      <td>851</td>\n",
       "      <td>0</td>\n",
       "      <td>1</td>\n",
       "      <td>0</td>\n",
       "      <td>0</td>\n",
       "      <td>0</td>\n",
       "    </tr>\n",
       "  </tbody>\n",
       "</table>\n",
       "</div>"
      ],
      "text/plain": [
       "   Complaint_No                                          narrative  \\\n",
       "0             0  purchase order day shipping amount receive pro...   \n",
       "1             1  forwarded message date tue subject please inve...   \n",
       "2             2  forwarded message cc sent friday pdt subject f...   \n",
       "3             3  payment history missing credit report speciali...   \n",
       "4             4  payment history missing credit report made mis...   \n",
       "\n",
       "   narrative_length  credit_card  credit_reporting  debt_collection  \\\n",
       "0              1705            1                 0                0   \n",
       "1               904            1                 0                0   \n",
       "2              1230            0                 0                0   \n",
       "3               903            0                 1                0   \n",
       "4               851            0                 1                0   \n",
       "\n",
       "   mortgages_and_loans  retail_banking  \n",
       "0                    0               0  \n",
       "1                    0               0  \n",
       "2                    0               1  \n",
       "3                    0               0  \n",
       "4                    0               0  "
      ]
     },
     "execution_count": 32,
     "metadata": {},
     "output_type": "execute_result"
    }
   ],
   "source": [
    "def remove_punc(text):\n",
    "    return text.translate(str.maketrans('', '',punc))\n",
    "\n",
    "df[\"narrative\"]=df[\"narrative\"].apply(remove_punc)\n",
    "df.head()"
   ]
  },
  {
   "cell_type": "markdown",
   "id": "53298491",
   "metadata": {},
   "source": [
    "## 6- remove stop words"
   ]
  },
  {
   "cell_type": "code",
   "execution_count": 33,
   "id": "7a5bb549",
   "metadata": {},
   "outputs": [],
   "source": [
    "from nltk.corpus import stopwords"
   ]
  },
  {
   "cell_type": "code",
   "execution_count": 34,
   "id": "3cedf486",
   "metadata": {},
   "outputs": [
    {
     "name": "stderr",
     "output_type": "stream",
     "text": [
      "[nltk_data] Downloading package stopwords to\n",
      "[nltk_data]     C:\\Users\\SURAJ\\AppData\\Roaming\\nltk_data...\n",
      "[nltk_data]   Unzipping corpora\\stopwords.zip.\n"
     ]
    }
   ],
   "source": [
    "import nltk\n",
    "nltk.download('stopwords')\n",
    "stop_words=set(stopwords.words('english'))"
   ]
  },
  {
   "cell_type": "code",
   "execution_count": 35,
   "id": "b20009a0",
   "metadata": {},
   "outputs": [
    {
     "data": {
      "text/html": [
       "<div>\n",
       "<style scoped>\n",
       "    .dataframe tbody tr th:only-of-type {\n",
       "        vertical-align: middle;\n",
       "    }\n",
       "\n",
       "    .dataframe tbody tr th {\n",
       "        vertical-align: top;\n",
       "    }\n",
       "\n",
       "    .dataframe thead th {\n",
       "        text-align: right;\n",
       "    }\n",
       "</style>\n",
       "<table border=\"1\" class=\"dataframe\">\n",
       "  <thead>\n",
       "    <tr style=\"text-align: right;\">\n",
       "      <th></th>\n",
       "      <th>Complaint_No</th>\n",
       "      <th>narrative</th>\n",
       "      <th>narrative_length</th>\n",
       "      <th>credit_card</th>\n",
       "      <th>credit_reporting</th>\n",
       "      <th>debt_collection</th>\n",
       "      <th>mortgages_and_loans</th>\n",
       "      <th>retail_banking</th>\n",
       "    </tr>\n",
       "  </thead>\n",
       "  <tbody>\n",
       "    <tr>\n",
       "      <th>0</th>\n",
       "      <td>0</td>\n",
       "      <td>purchase order day shipping amount receive pro...</td>\n",
       "      <td>1705</td>\n",
       "      <td>1</td>\n",
       "      <td>0</td>\n",
       "      <td>0</td>\n",
       "      <td>0</td>\n",
       "      <td>0</td>\n",
       "    </tr>\n",
       "    <tr>\n",
       "      <th>1</th>\n",
       "      <td>1</td>\n",
       "      <td>forwarded message date tue subject please inve...</td>\n",
       "      <td>904</td>\n",
       "      <td>1</td>\n",
       "      <td>0</td>\n",
       "      <td>0</td>\n",
       "      <td>0</td>\n",
       "      <td>0</td>\n",
       "    </tr>\n",
       "    <tr>\n",
       "      <th>2</th>\n",
       "      <td>2</td>\n",
       "      <td>forwarded message cc sent friday pdt subject f...</td>\n",
       "      <td>1230</td>\n",
       "      <td>0</td>\n",
       "      <td>0</td>\n",
       "      <td>0</td>\n",
       "      <td>0</td>\n",
       "      <td>1</td>\n",
       "    </tr>\n",
       "    <tr>\n",
       "      <th>3</th>\n",
       "      <td>3</td>\n",
       "      <td>payment history missing credit report speciali...</td>\n",
       "      <td>903</td>\n",
       "      <td>0</td>\n",
       "      <td>1</td>\n",
       "      <td>0</td>\n",
       "      <td>0</td>\n",
       "      <td>0</td>\n",
       "    </tr>\n",
       "    <tr>\n",
       "      <th>4</th>\n",
       "      <td>4</td>\n",
       "      <td>payment history missing credit report made mis...</td>\n",
       "      <td>851</td>\n",
       "      <td>0</td>\n",
       "      <td>1</td>\n",
       "      <td>0</td>\n",
       "      <td>0</td>\n",
       "      <td>0</td>\n",
       "    </tr>\n",
       "  </tbody>\n",
       "</table>\n",
       "</div>"
      ],
      "text/plain": [
       "   Complaint_No                                          narrative  \\\n",
       "0             0  purchase order day shipping amount receive pro...   \n",
       "1             1  forwarded message date tue subject please inve...   \n",
       "2             2  forwarded message cc sent friday pdt subject f...   \n",
       "3             3  payment history missing credit report speciali...   \n",
       "4             4  payment history missing credit report made mis...   \n",
       "\n",
       "   narrative_length  credit_card  credit_reporting  debt_collection  \\\n",
       "0              1705            1                 0                0   \n",
       "1               904            1                 0                0   \n",
       "2              1230            0                 0                0   \n",
       "3               903            0                 1                0   \n",
       "4               851            0                 1                0   \n",
       "\n",
       "   mortgages_and_loans  retail_banking  \n",
       "0                    0               0  \n",
       "1                    0               0  \n",
       "2                    0               1  \n",
       "3                    0               0  \n",
       "4                    0               0  "
      ]
     },
     "execution_count": 35,
     "metadata": {},
     "output_type": "execute_result"
    }
   ],
   "source": [
    "def remove_stopwords(text):\n",
    "    words = text.split()\n",
    "    filtered_words = [word for word in words if word not in stop_words]\n",
    "    return \" \".join(filtered_words)\n",
    "\n",
    "df[\"narrative\"]=df[\"narrative\"].apply(lambda x: remove_stopwords(x))\n",
    "\n",
    "df.head()"
   ]
  },
  {
   "cell_type": "code",
   "execution_count": 36,
   "id": "d5c85a1d",
   "metadata": {},
   "outputs": [
    {
     "data": {
      "text/html": [
       "<div>\n",
       "<style scoped>\n",
       "    .dataframe tbody tr th:only-of-type {\n",
       "        vertical-align: middle;\n",
       "    }\n",
       "\n",
       "    .dataframe tbody tr th {\n",
       "        vertical-align: top;\n",
       "    }\n",
       "\n",
       "    .dataframe thead th {\n",
       "        text-align: right;\n",
       "    }\n",
       "</style>\n",
       "<table border=\"1\" class=\"dataframe\">\n",
       "  <thead>\n",
       "    <tr style=\"text-align: right;\">\n",
       "      <th></th>\n",
       "      <th>Complaint_No</th>\n",
       "      <th>narrative</th>\n",
       "      <th>narrative_length</th>\n",
       "      <th>credit_card</th>\n",
       "      <th>credit_reporting</th>\n",
       "      <th>debt_collection</th>\n",
       "      <th>mortgages_and_loans</th>\n",
       "      <th>retail_banking</th>\n",
       "    </tr>\n",
       "  </thead>\n",
       "  <tbody>\n",
       "    <tr>\n",
       "      <th>0</th>\n",
       "      <td>0</td>\n",
       "      <td>purchase order day shipping amount receive pro...</td>\n",
       "      <td>1705</td>\n",
       "      <td>1</td>\n",
       "      <td>0</td>\n",
       "      <td>0</td>\n",
       "      <td>0</td>\n",
       "      <td>0</td>\n",
       "    </tr>\n",
       "    <tr>\n",
       "      <th>1</th>\n",
       "      <td>1</td>\n",
       "      <td>forwarded message date tue subject please inve...</td>\n",
       "      <td>904</td>\n",
       "      <td>1</td>\n",
       "      <td>0</td>\n",
       "      <td>0</td>\n",
       "      <td>0</td>\n",
       "      <td>0</td>\n",
       "    </tr>\n",
       "    <tr>\n",
       "      <th>2</th>\n",
       "      <td>2</td>\n",
       "      <td>forwarded message cc sent friday pdt subject f...</td>\n",
       "      <td>1230</td>\n",
       "      <td>0</td>\n",
       "      <td>0</td>\n",
       "      <td>0</td>\n",
       "      <td>0</td>\n",
       "      <td>1</td>\n",
       "    </tr>\n",
       "    <tr>\n",
       "      <th>3</th>\n",
       "      <td>3</td>\n",
       "      <td>payment history missing credit report speciali...</td>\n",
       "      <td>903</td>\n",
       "      <td>0</td>\n",
       "      <td>1</td>\n",
       "      <td>0</td>\n",
       "      <td>0</td>\n",
       "      <td>0</td>\n",
       "    </tr>\n",
       "    <tr>\n",
       "      <th>4</th>\n",
       "      <td>4</td>\n",
       "      <td>payment history missing credit report made mis...</td>\n",
       "      <td>851</td>\n",
       "      <td>0</td>\n",
       "      <td>1</td>\n",
       "      <td>0</td>\n",
       "      <td>0</td>\n",
       "      <td>0</td>\n",
       "    </tr>\n",
       "    <tr>\n",
       "      <th>...</th>\n",
       "      <td>...</td>\n",
       "      <td>...</td>\n",
       "      <td>...</td>\n",
       "      <td>...</td>\n",
       "      <td>...</td>\n",
       "      <td>...</td>\n",
       "      <td>...</td>\n",
       "      <td>...</td>\n",
       "    </tr>\n",
       "    <tr>\n",
       "      <th>162416</th>\n",
       "      <td>162416</td>\n",
       "      <td>name</td>\n",
       "      <td>4</td>\n",
       "      <td>0</td>\n",
       "      <td>0</td>\n",
       "      <td>1</td>\n",
       "      <td>0</td>\n",
       "      <td>0</td>\n",
       "    </tr>\n",
       "    <tr>\n",
       "      <th>162417</th>\n",
       "      <td>162417</td>\n",
       "      <td>name</td>\n",
       "      <td>4</td>\n",
       "      <td>1</td>\n",
       "      <td>0</td>\n",
       "      <td>0</td>\n",
       "      <td>0</td>\n",
       "      <td>0</td>\n",
       "    </tr>\n",
       "    <tr>\n",
       "      <th>162418</th>\n",
       "      <td>162418</td>\n",
       "      <td>name</td>\n",
       "      <td>4</td>\n",
       "      <td>0</td>\n",
       "      <td>0</td>\n",
       "      <td>1</td>\n",
       "      <td>0</td>\n",
       "      <td>0</td>\n",
       "    </tr>\n",
       "    <tr>\n",
       "      <th>162419</th>\n",
       "      <td>162419</td>\n",
       "      <td>name</td>\n",
       "      <td>4</td>\n",
       "      <td>1</td>\n",
       "      <td>0</td>\n",
       "      <td>0</td>\n",
       "      <td>0</td>\n",
       "      <td>0</td>\n",
       "    </tr>\n",
       "    <tr>\n",
       "      <th>162420</th>\n",
       "      <td>162420</td>\n",
       "      <td>name</td>\n",
       "      <td>4</td>\n",
       "      <td>0</td>\n",
       "      <td>1</td>\n",
       "      <td>0</td>\n",
       "      <td>0</td>\n",
       "      <td>0</td>\n",
       "    </tr>\n",
       "  </tbody>\n",
       "</table>\n",
       "<p>162411 rows × 8 columns</p>\n",
       "</div>"
      ],
      "text/plain": [
       "        Complaint_No                                          narrative  \\\n",
       "0                  0  purchase order day shipping amount receive pro...   \n",
       "1                  1  forwarded message date tue subject please inve...   \n",
       "2                  2  forwarded message cc sent friday pdt subject f...   \n",
       "3                  3  payment history missing credit report speciali...   \n",
       "4                  4  payment history missing credit report made mis...   \n",
       "...              ...                                                ...   \n",
       "162416        162416                                               name   \n",
       "162417        162417                                               name   \n",
       "162418        162418                                               name   \n",
       "162419        162419                                               name   \n",
       "162420        162420                                               name   \n",
       "\n",
       "        narrative_length  credit_card  credit_reporting  debt_collection  \\\n",
       "0                   1705            1                 0                0   \n",
       "1                    904            1                 0                0   \n",
       "2                   1230            0                 0                0   \n",
       "3                    903            0                 1                0   \n",
       "4                    851            0                 1                0   \n",
       "...                  ...          ...               ...              ...   \n",
       "162416                 4            0                 0                1   \n",
       "162417                 4            1                 0                0   \n",
       "162418                 4            0                 0                1   \n",
       "162419                 4            1                 0                0   \n",
       "162420                 4            0                 1                0   \n",
       "\n",
       "        mortgages_and_loans  retail_banking  \n",
       "0                         0               0  \n",
       "1                         0               0  \n",
       "2                         0               1  \n",
       "3                         0               0  \n",
       "4                         0               0  \n",
       "...                     ...             ...  \n",
       "162416                    0               0  \n",
       "162417                    0               0  \n",
       "162418                    0               0  \n",
       "162419                    0               0  \n",
       "162420                    0               0  \n",
       "\n",
       "[162411 rows x 8 columns]"
      ]
     },
     "execution_count": 36,
     "metadata": {},
     "output_type": "execute_result"
    }
   ],
   "source": [
    "df"
   ]
  },
  {
   "cell_type": "markdown",
   "id": "027ff623",
   "metadata": {},
   "source": [
    "## 7- Tokenize"
   ]
  },
  {
   "cell_type": "code",
   "execution_count": 37,
   "id": "fc7028d6",
   "metadata": {},
   "outputs": [
    {
     "name": "stderr",
     "output_type": "stream",
     "text": [
      "[nltk_data] Downloading package punkt to\n",
      "[nltk_data]     C:\\Users\\SURAJ\\AppData\\Roaming\\nltk_data...\n",
      "[nltk_data]   Unzipping tokenizers\\punkt.zip.\n"
     ]
    },
    {
     "data": {
      "text/html": [
       "<div>\n",
       "<style scoped>\n",
       "    .dataframe tbody tr th:only-of-type {\n",
       "        vertical-align: middle;\n",
       "    }\n",
       "\n",
       "    .dataframe tbody tr th {\n",
       "        vertical-align: top;\n",
       "    }\n",
       "\n",
       "    .dataframe thead th {\n",
       "        text-align: right;\n",
       "    }\n",
       "</style>\n",
       "<table border=\"1\" class=\"dataframe\">\n",
       "  <thead>\n",
       "    <tr style=\"text-align: right;\">\n",
       "      <th></th>\n",
       "      <th>Complaint_No</th>\n",
       "      <th>narrative</th>\n",
       "      <th>narrative_length</th>\n",
       "      <th>credit_card</th>\n",
       "      <th>credit_reporting</th>\n",
       "      <th>debt_collection</th>\n",
       "      <th>mortgages_and_loans</th>\n",
       "      <th>retail_banking</th>\n",
       "      <th>Complaint_tokenized_text</th>\n",
       "    </tr>\n",
       "  </thead>\n",
       "  <tbody>\n",
       "    <tr>\n",
       "      <th>0</th>\n",
       "      <td>0</td>\n",
       "      <td>purchase order day shipping amount receive pro...</td>\n",
       "      <td>1705</td>\n",
       "      <td>1</td>\n",
       "      <td>0</td>\n",
       "      <td>0</td>\n",
       "      <td>0</td>\n",
       "      <td>0</td>\n",
       "      <td>[[purchase, order, day, shipping, amount, rece...</td>\n",
       "    </tr>\n",
       "    <tr>\n",
       "      <th>1</th>\n",
       "      <td>1</td>\n",
       "      <td>forwarded message date tue subject please inve...</td>\n",
       "      <td>904</td>\n",
       "      <td>1</td>\n",
       "      <td>0</td>\n",
       "      <td>0</td>\n",
       "      <td>0</td>\n",
       "      <td>0</td>\n",
       "      <td>[[forwarded, message, date, tue, subject, plea...</td>\n",
       "    </tr>\n",
       "    <tr>\n",
       "      <th>2</th>\n",
       "      <td>2</td>\n",
       "      <td>forwarded message cc sent friday pdt subject f...</td>\n",
       "      <td>1230</td>\n",
       "      <td>0</td>\n",
       "      <td>0</td>\n",
       "      <td>0</td>\n",
       "      <td>0</td>\n",
       "      <td>1</td>\n",
       "      <td>[[forwarded, message, cc, sent, friday, pdt, s...</td>\n",
       "    </tr>\n",
       "    <tr>\n",
       "      <th>3</th>\n",
       "      <td>3</td>\n",
       "      <td>payment history missing credit report speciali...</td>\n",
       "      <td>903</td>\n",
       "      <td>0</td>\n",
       "      <td>1</td>\n",
       "      <td>0</td>\n",
       "      <td>0</td>\n",
       "      <td>0</td>\n",
       "      <td>[[payment, history, missing, credit, report, s...</td>\n",
       "    </tr>\n",
       "    <tr>\n",
       "      <th>4</th>\n",
       "      <td>4</td>\n",
       "      <td>payment history missing credit report made mis...</td>\n",
       "      <td>851</td>\n",
       "      <td>0</td>\n",
       "      <td>1</td>\n",
       "      <td>0</td>\n",
       "      <td>0</td>\n",
       "      <td>0</td>\n",
       "      <td>[[payment, history, missing, credit, report, m...</td>\n",
       "    </tr>\n",
       "  </tbody>\n",
       "</table>\n",
       "</div>"
      ],
      "text/plain": [
       "   Complaint_No                                          narrative  \\\n",
       "0             0  purchase order day shipping amount receive pro...   \n",
       "1             1  forwarded message date tue subject please inve...   \n",
       "2             2  forwarded message cc sent friday pdt subject f...   \n",
       "3             3  payment history missing credit report speciali...   \n",
       "4             4  payment history missing credit report made mis...   \n",
       "\n",
       "   narrative_length  credit_card  credit_reporting  debt_collection  \\\n",
       "0              1705            1                 0                0   \n",
       "1               904            1                 0                0   \n",
       "2              1230            0                 0                0   \n",
       "3               903            0                 1                0   \n",
       "4               851            0                 1                0   \n",
       "\n",
       "   mortgages_and_loans  retail_banking  \\\n",
       "0                    0               0   \n",
       "1                    0               0   \n",
       "2                    0               1   \n",
       "3                    0               0   \n",
       "4                    0               0   \n",
       "\n",
       "                            Complaint_tokenized_text  \n",
       "0  [[purchase, order, day, shipping, amount, rece...  \n",
       "1  [[forwarded, message, date, tue, subject, plea...  \n",
       "2  [[forwarded, message, cc, sent, friday, pdt, s...  \n",
       "3  [[payment, history, missing, credit, report, s...  \n",
       "4  [[payment, history, missing, credit, report, m...  "
      ]
     },
     "execution_count": 37,
     "metadata": {},
     "output_type": "execute_result"
    }
   ],
   "source": [
    "import nltk\n",
    "nltk.download('punkt')\n",
    "from nltk import word_tokenize, sent_tokenize\n",
    "\n",
    "# Function to apply sentence and word tokenization\n",
    "def tokenize_text(text):\n",
    "    sentences = sent_tokenize(text)\n",
    "    words = [word_tokenize(sentence) for sentence in sentences]\n",
    "    return words\n",
    "\n",
    "df['Complaint_tokenized_text'] = df['narrative'].apply(tokenize_text)\n",
    "\n",
    "df.head()"
   ]
  },
  {
   "cell_type": "code",
   "execution_count": 38,
   "id": "bc86bc19",
   "metadata": {},
   "outputs": [
    {
     "data": {
      "text/plain": [
       "['purchase',\n",
       " 'order',\n",
       " 'day',\n",
       " 'shipping',\n",
       " 'amount',\n",
       " 'receive',\n",
       " 'product',\n",
       " 'week',\n",
       " 'sent',\n",
       " 'followup',\n",
       " 'email',\n",
       " 'exact',\n",
       " 'verbiage',\n",
       " 'paid',\n",
       " 'two',\n",
       " 'day',\n",
       " 'shipping',\n",
       " 'received',\n",
       " 'order',\n",
       " 'company',\n",
       " 'responded',\n",
       " 'im',\n",
       " 'sorry',\n",
       " 'inform',\n",
       " 'due',\n",
       " 'unusually',\n",
       " 'high',\n",
       " 'order',\n",
       " 'volume',\n",
       " 'order',\n",
       " 'shipped',\n",
       " 'several',\n",
       " 'week',\n",
       " 'stock',\n",
       " 'since',\n",
       " 'early',\n",
       " 'due',\n",
       " 'high',\n",
       " 'demand',\n",
       " 'although',\n",
       " 'continuing',\n",
       " 'take',\n",
       " 'order',\n",
       " 'guaranteeing',\n",
       " 'receive',\n",
       " 'order',\n",
       " 'place',\n",
       " 'due',\n",
       " 'time',\n",
       " 'mask',\n",
       " 'order',\n",
       " 'exact',\n",
       " 'shipping',\n",
       " 'date',\n",
       " 'right',\n",
       " 'however',\n",
       " 'guarantee',\n",
       " 'ship',\n",
       " 'soon',\n",
       " 'soon',\n",
       " 'delivers',\n",
       " 'product',\n",
       " 'u',\n",
       " 'getting',\n",
       " 'small',\n",
       " 'shipment',\n",
       " 'shipping',\n",
       " 'first',\n",
       " 'come',\n",
       " 'first',\n",
       " 'served',\n",
       " 'basis',\n",
       " 'appreciate',\n",
       " 'patience',\n",
       " 'fulfill',\n",
       " 'order',\n",
       " 'quickly',\n",
       " 'recommend',\n",
       " 'keeping',\n",
       " 'order',\n",
       " 'lose',\n",
       " 'place',\n",
       " 'line',\n",
       " 'cancel',\n",
       " 'distributor',\n",
       " 'stock',\n",
       " 'moment',\n",
       " 'prefer',\n",
       " 'cancel',\n",
       " 'please',\n",
       " 'note',\n",
       " 'ask',\n",
       " 'via',\n",
       " 'email',\n",
       " 'cancel',\n",
       " 'accordance',\n",
       " 'cancellation',\n",
       " 'policy',\n",
       " 'agreed',\n",
       " 'checkout',\n",
       " 'electronic',\n",
       " 'inventory',\n",
       " 'online',\n",
       " 'requested',\n",
       " 'order',\n",
       " 'canceled',\n",
       " 'refund',\n",
       " 'issued',\n",
       " 'canceled',\n",
       " 'order',\n",
       " 'sent',\n",
       " 'verification',\n",
       " 'order',\n",
       " 'canceled',\n",
       " 'refunded',\n",
       " 'item',\n",
       " 'particulate',\n",
       " 'respirator',\n",
       " 'refunded',\n",
       " 'subtotal',\n",
       " 'shipping',\n",
       " 'tax',\n",
       " 'total',\n",
       " 'usd',\n",
       " 'visa',\n",
       " 'ending',\n",
       " 'refund',\n",
       " 'called',\n",
       " 'disputed',\n",
       " 'amount',\n",
       " 'stated',\n",
       " 'nothing',\n",
       " 'needed',\n",
       " 'submitted',\n",
       " 'address',\n",
       " 'issue',\n",
       " 'recharged',\n",
       " 'item',\n",
       " 'removing',\n",
       " 'called',\n",
       " 'back',\n",
       " 'dispute',\n",
       " 'amount',\n",
       " 'transaction',\n",
       " 'rebillmerchandiserobert',\n",
       " 'ca',\n",
       " 'purchased',\n",
       " 'thu',\n",
       " 'posted',\n",
       " 'wed',\n",
       " 'purchased',\n",
       " 'appears',\n",
       " 'statement',\n",
       " 'transaction',\n",
       " 'rebill',\n",
       " 'ca',\n",
       " 'u',\n",
       " 'followed',\n",
       " 'see',\n",
       " 'status',\n",
       " 'case',\n",
       " 'submitted',\n",
       " 'documentation',\n",
       " 'showing',\n",
       " 'canceled',\n",
       " 'order',\n",
       " 'supposed',\n",
       " 'submit',\n",
       " 'refund',\n",
       " 'called',\n",
       " 'back',\n",
       " 'speak',\n",
       " 'manager',\n",
       " 'case',\n",
       " 'stated',\n",
       " 'dispute',\n",
       " 'ruled',\n",
       " 'favor',\n",
       " 'charge',\n",
       " 'removed',\n",
       " 'card',\n",
       " 'capital',\n",
       " 'one',\n",
       " 'removed',\n",
       " 'purchase',\n",
       " 'bill',\n",
       " 'purchase',\n",
       " 'adjustmentmerchandiserobert',\n",
       " 'j',\n",
       " 'posted',\n",
       " 'fri',\n",
       " 'purchased',\n",
       " 'appears',\n",
       " 'statement',\n",
       " 'purchase',\n",
       " 'adjustment',\n",
       " 'capital',\n",
       " 'one',\n",
       " 'recharges',\n",
       " 'amount',\n",
       " 'transaction',\n",
       " 'rebillmerchandiserobert',\n",
       " 'j',\n",
       " 'purchased',\n",
       " 'thu',\n",
       " 'posted',\n",
       " 'mon',\n",
       " 'purchased',\n",
       " 'appears',\n",
       " 'statement',\n",
       " 'transaction',\n",
       " 'rebill',\n",
       " 'called',\n",
       " 'capital',\n",
       " 'one',\n",
       " 'requested',\n",
       " 'recharge',\n",
       " 'stated',\n",
       " 'visa',\n",
       " 'ruled',\n",
       " 'case',\n",
       " 'pretended',\n",
       " 'remove',\n",
       " 'purchase',\n",
       " 'knew',\n",
       " 'anything',\n",
       " 'case',\n",
       " 'manager',\n",
       " 'ruling',\n",
       " 'favor']"
      ]
     },
     "execution_count": 38,
     "metadata": {},
     "output_type": "execute_result"
    }
   ],
   "source": [
    "df[\"Complaint_tokenized_text\"][0][0]"
   ]
  },
  {
   "cell_type": "markdown",
   "id": "9d52b13e",
   "metadata": {},
   "source": [
    "## split data"
   ]
  },
  {
   "cell_type": "code",
   "execution_count": 39,
   "id": "37f15dd7",
   "metadata": {},
   "outputs": [
    {
     "name": "stdout",
     "output_type": "stream",
     "text": [
      "<class 'pandas.core.frame.DataFrame'>\n",
      "Int64Index: 162411 entries, 0 to 162420\n",
      "Data columns (total 9 columns):\n",
      " #   Column                    Non-Null Count   Dtype \n",
      "---  ------                    --------------   ----- \n",
      " 0   Complaint_No              162411 non-null  int64 \n",
      " 1   narrative                 162411 non-null  object\n",
      " 2   narrative_length          162411 non-null  int64 \n",
      " 3   credit_card               162411 non-null  uint8 \n",
      " 4   credit_reporting          162411 non-null  uint8 \n",
      " 5   debt_collection           162411 non-null  uint8 \n",
      " 6   mortgages_and_loans       162411 non-null  uint8 \n",
      " 7   retail_banking            162411 non-null  uint8 \n",
      " 8   Complaint_tokenized_text  162411 non-null  object\n",
      "dtypes: int64(2), object(2), uint8(5)\n",
      "memory usage: 11.0+ MB\n"
     ]
    }
   ],
   "source": [
    "df.info()"
   ]
  },
  {
   "cell_type": "code",
   "execution_count": 40,
   "id": "8da58d15",
   "metadata": {},
   "outputs": [],
   "source": [
    "X = df['narrative'].values"
   ]
  },
  {
   "cell_type": "code",
   "execution_count": 41,
   "id": "b9a3c6e4",
   "metadata": {},
   "outputs": [
    {
     "data": {
      "text/plain": [
       "array(['purchase order day shipping amount receive product week sent followup email exact verbiage paid two day shipping received order company responded im sorry inform due unusually high order volume order shipped several week stock since early due high demand although continuing take order guaranteeing receive order place due time mask order exact shipping date right however guarantee ship soon soon delivers product u getting small shipment shipping first come first served basis appreciate patience fulfill order quickly recommend keeping order lose place line cancel distributor stock moment prefer cancel please note ask via email cancel accordance cancellation policy agreed checkout electronic inventory online requested order canceled refund issued canceled order sent verification order canceled refunded item particulate respirator refunded subtotal shipping tax total usd visa ending refund called disputed amount stated nothing needed submitted address issue recharged item removing called back dispute amount transaction rebillmerchandiserobert ca purchased thu posted wed purchased appears statement transaction rebill ca u followed see status case submitted documentation showing canceled order supposed submit refund called back speak manager case stated dispute ruled favor charge removed card capital one removed purchase bill purchase adjustmentmerchandiserobert j posted fri purchased appears statement purchase adjustment capital one recharges amount transaction rebillmerchandiserobert j purchased thu posted mon purchased appears statement transaction rebill called capital one requested recharge stated visa ruled case pretended remove purchase knew anything case manager ruling favor',\n",
       "       'forwarded message date tue subject please investigate comenity bank retailer card scam sent hello name scammed comenity bank credit card provider company childrens place new york forever victoria secret original credit comenity bank lower limit began charge overage fee along late fee began pay close attention card find limit also changed well incurring overage late fee reached company comenity bank stated would change credit limit original limit reached told summit payment account corrected comenity bank credit card impacted credit score plummeted negative status im currently paying price due corruption affected detrimental way debt due company charging overage fee well late fee even initial credit limit fluctuating tremendously company charge major fee account willing correct account nervous said attorney reason im reaching im employee company ruining credit plz help name contact info thank',\n",
       "       'forwarded message cc sent friday pdt subject final legal payment well fargo well fargo clearly wrong need look actually opened account see court hearing several different government agency reporting well including branch put open account numerous fraudulent charge debit card connected account clearly due fact well fargo maintain clearly required encryption card keep secure adding damage request small claim lawsuit time take away running business branch required come branch multiple time get fraudulent charge removed actually present strong case proper consumer protection agency well fargo immediately barred issuing account debit card insure agency card adequate prevent fraudulent use also requesting punitive treble damage sum hour take work handle lawsuit along legal cost filing lawsuit county small claim court today well fargo outrageous fraudulent conduct clearly warrant punitive damage also sharing every possible consumer protection agency find would think well fargo enough adverse publicity fraudulent conduct last year introduce small claim suit clearly establishing well fargo established business practice fraud customer ca judge really need reminded might want immediately run bonus payment legal department',\n",
       "       ..., 'name', 'name', 'name'], dtype=object)"
      ]
     },
     "execution_count": 41,
     "metadata": {},
     "output_type": "execute_result"
    }
   ],
   "source": [
    "X"
   ]
  },
  {
   "cell_type": "code",
   "execution_count": 42,
   "id": "2ea92edd",
   "metadata": {},
   "outputs": [],
   "source": [
    "y = np.argmax(df[['credit_card', 'credit_reporting', 'debt_collection', 'mortgages_and_loans', 'retail_banking']].values, axis=1)"
   ]
  },
  {
   "cell_type": "code",
   "execution_count": 43,
   "id": "2882ffef",
   "metadata": {},
   "outputs": [
    {
     "data": {
      "text/plain": [
       "(162411,)"
      ]
     },
     "execution_count": 43,
     "metadata": {},
     "output_type": "execute_result"
    }
   ],
   "source": [
    "y.shape"
   ]
  },
  {
   "cell_type": "code",
   "execution_count": 44,
   "id": "38b1e805",
   "metadata": {},
   "outputs": [],
   "source": [
    "from sklearn.model_selection import train_test_split\n",
    "\n",
    "X_train,X_test,y_train,y_test = train_test_split(X,y,test_size=0.2 , random_state=22)"
   ]
  },
  {
   "cell_type": "code",
   "execution_count": 45,
   "id": "fa18f850",
   "metadata": {},
   "outputs": [
    {
     "data": {
      "text/plain": [
       "(129928,)"
      ]
     },
     "execution_count": 45,
     "metadata": {},
     "output_type": "execute_result"
    }
   ],
   "source": [
    "X_train.shape"
   ]
  },
  {
   "cell_type": "code",
   "execution_count": 46,
   "id": "fefa49c4",
   "metadata": {},
   "outputs": [
    {
     "data": {
      "text/plain": [
       "(129928,)"
      ]
     },
     "execution_count": 46,
     "metadata": {},
     "output_type": "execute_result"
    }
   ],
   "source": [
    "y_train.shape"
   ]
  },
  {
   "cell_type": "code",
   "execution_count": 47,
   "id": "88345dde",
   "metadata": {},
   "outputs": [
    {
     "data": {
      "text/plain": [
       "(32483,)"
      ]
     },
     "execution_count": 47,
     "metadata": {},
     "output_type": "execute_result"
    }
   ],
   "source": [
    "X_test.shape"
   ]
  },
  {
   "cell_type": "code",
   "execution_count": 48,
   "id": "72546528",
   "metadata": {},
   "outputs": [
    {
     "data": {
      "text/plain": [
       "(32483,)"
      ]
     },
     "execution_count": 48,
     "metadata": {},
     "output_type": "execute_result"
    }
   ],
   "source": [
    "y_test.shape"
   ]
  },
  {
   "cell_type": "markdown",
   "id": "dce90d1e",
   "metadata": {},
   "source": [
    "## Modeling\n",
    "### using Multinomial Naive Bayes because we have multi labels"
   ]
  },
  {
   "cell_type": "markdown",
   "id": "ded76007",
   "metadata": {},
   "source": [
    "#### TF_IDF"
   ]
  },
  {
   "cell_type": "code",
   "execution_count": 49,
   "id": "b2eee3b3",
   "metadata": {},
   "outputs": [
    {
     "name": "stdout",
     "output_type": "stream",
     "text": [
      "Accuracy: 0.81\n",
      "Classification Report:\n",
      "               precision    recall  f1-score   support\n",
      "\n",
      "           0       0.78      0.58      0.67      3075\n",
      "           1       0.80      0.96      0.87     18284\n",
      "           2       0.85      0.45      0.59      4569\n",
      "           3       0.80      0.79      0.79      3759\n",
      "           4       0.90      0.71      0.79      2796\n",
      "\n",
      "    accuracy                           0.81     32483\n",
      "   macro avg       0.83      0.70      0.74     32483\n",
      "weighted avg       0.82      0.81      0.80     32483\n",
      "\n"
     ]
    }
   ],
   "source": [
    "from sklearn.feature_extraction.text import TfidfVectorizer\n",
    "from sklearn.naive_bayes import MultinomialNB\n",
    "from sklearn.pipeline import make_pipeline\n",
    "from sklearn.metrics import accuracy_score, classification_report\n",
    "\n",
    "# Create a pipeline with a TF-IDF vectorizer and a Multinomial Naive Bayes classifier\n",
    "model1 = make_pipeline(TfidfVectorizer(), MultinomialNB())\n",
    "\n",
    "# Train the model\n",
    "model1.fit(X_train, y_train)\n",
    "\n",
    "# Predict on the test set\n",
    "y_pred = model1.predict(X_test)\n",
    "\n",
    "# Evaluate the model\n",
    "accuracy = accuracy_score(y_test, y_pred)\n",
    "print(f\"Accuracy: {accuracy:.2f}\")\n",
    "\n",
    "# Print classification report\n",
    "print(\"Classification Report:\\n\", classification_report(y_test, y_pred))"
   ]
  },
  {
   "cell_type": "markdown",
   "id": "b1642098",
   "metadata": {},
   "source": [
    "## Cross-validation"
   ]
  },
  {
   "cell_type": "code",
   "execution_count": 50,
   "id": "07aefab9",
   "metadata": {},
   "outputs": [
    {
     "name": "stdout",
     "output_type": "stream",
     "text": [
      "Cross-Validation Scores: [0.81008528 0.79628717 0.80503048 0.81857644 0.80629272]\n",
      "Mean Accuracy: 0.81\n"
     ]
    }
   ],
   "source": [
    "from sklearn.model_selection import cross_val_score\n",
    "\n",
    "cv_scores = cross_val_score(model1, X, y, cv=5, scoring='accuracy')\n",
    "print(f\"Cross-Validation Scores: {cv_scores}\")\n",
    "print(f\"Mean Accuracy: {np.mean(cv_scores):.2f}\")"
   ]
  },
  {
   "cell_type": "markdown",
   "id": "974aaf36",
   "metadata": {},
   "source": [
    "## BOW"
   ]
  },
  {
   "cell_type": "code",
   "execution_count": 51,
   "id": "93f8e887",
   "metadata": {},
   "outputs": [
    {
     "name": "stdout",
     "output_type": "stream",
     "text": [
      "Accuracy: 0.82\n",
      "Classification Report:\n",
      "               precision    recall  f1-score   support\n",
      "\n",
      "           0       0.65      0.77      0.70      3075\n",
      "           1       0.92      0.84      0.88     18284\n",
      "           2       0.72      0.69      0.70      4569\n",
      "           3       0.71      0.88      0.79      3759\n",
      "           4       0.79      0.90      0.84      2796\n",
      "\n",
      "    accuracy                           0.82     32483\n",
      "   macro avg       0.76      0.82      0.78     32483\n",
      "weighted avg       0.83      0.82      0.82     32483\n",
      "\n"
     ]
    }
   ],
   "source": [
    "from sklearn.feature_extraction.text import CountVectorizer\n",
    "# Create a pipeline with a CountVectorizer and a Multinomial Naive Bayes classifier\n",
    "model2 = make_pipeline(CountVectorizer(), MultinomialNB())\n",
    "\n",
    "# Train the model\n",
    "model2.fit(X_train, y_train)\n",
    "\n",
    "# Predict on the test set\n",
    "y_pred = model2.predict(X_test)\n",
    "\n",
    "# Evaluate the model\n",
    "accuracy = accuracy_score(y_test, y_pred)\n",
    "print(f\"Accuracy: {accuracy:.2f}\")\n",
    "\n",
    "# Print classification report\n",
    "print(\"Classification Report:\\n\", classification_report(y_test, y_pred))"
   ]
  },
  {
   "cell_type": "markdown",
   "id": "0451586f",
   "metadata": {},
   "source": [
    "## Cross-validation"
   ]
  },
  {
   "cell_type": "code",
   "execution_count": 52,
   "id": "dedcd1ae",
   "metadata": {},
   "outputs": [
    {
     "name": "stdout",
     "output_type": "stream",
     "text": [
      "Cross-Validation Scores: [0.82135271 0.8099255  0.80355274 0.80995628 0.82005418]\n",
      "Mean Accuracy: 0.81\n"
     ]
    }
   ],
   "source": [
    "from sklearn.model_selection import cross_val_score\n",
    "\n",
    "cv_scores = cross_val_score(model2, X, y, cv=5, scoring='accuracy')\n",
    "print(f\"Cross-Validation Scores: {cv_scores}\")\n",
    "print(f\"Mean Accuracy: {np.mean(cv_scores):.2f}\")"
   ]
  },
  {
   "cell_type": "code",
   "execution_count": 53,
   "id": "abc3b3c3",
   "metadata": {},
   "outputs": [
    {
     "data": {
      "image/png": "[encoded data removed]",
      "text/plain": [
       "<Figure size 800x600 with 2 Axes>"
      ]
     },
     "metadata": {},
     "output_type": "display_data"
    }
   ],
   "source": [
    "from sklearn.metrics import confusion_matrix\n",
    "import seaborn as sns\n",
    "import matplotlib.pyplot as plt\n",
    "\n",
    "# Create a confusion matrix\n",
    "conf_matrix = confusion_matrix(y_test, y_pred)\n",
    "\n",
    "# Plot the confusion matrix\n",
    "plt.figure(figsize=(8, 6))\n",
    "sns.heatmap(conf_matrix, annot=True, fmt='d', cmap='Blues', xticklabels=['Class 0', 'Class 1', 'Class 2', 'Class 3', 'Class 4'], yticklabels=['Class 0', 'Class 1', 'Class 2', 'Class 3', 'Class 4'])\n",
    "plt.xlabel('Predicted')\n",
    "plt.ylabel('True')\n",
    "plt.title('Confusion Matrix')\n",
    "plt.show()"
   ]
  },
  {
   "cell_type": "markdown",
   "id": "5618618c",
   "metadata": {},
   "source": [
    "## Fine-tune"
   ]
  },
  {
   "cell_type": "code",
   "execution_count": null,
   "id": "0cac2bd1",
   "metadata": {},
   "outputs": [],
   "source": [
    "from sklearn.model_selection import RandomizedSearchCV\n",
    "from scipy.stats import uniform\n",
    "\n",
    "# Define the parameter distributions for RandomizedSearchCV\n",
    "param_dist = {\n",
    "    'countvectorizer__ngram_range': [(1, 1), (1, 2), (1, 3)],\n",
    "    'multinomialnb__alpha': uniform(0.1, 1.0),\n",
    "}\n",
    "\n",
    "model = make_pipeline(CountVectorizer(), MultinomialNB())\n",
    "\n",
    "randomized_search = RandomizedSearchCV(\n",
    "    model, param_distributions=param_dist, n_iter=10, cv=5, scoring='accuracy', n_jobs=-1, random_state=42\n",
    ")\n",
    "\n",
    "# Train the model with the best hyperparameters\n",
    "randomized_search.fit(X_train, y_train)\n",
    "\n",
    "# Get the best model from the randomized search\n",
    "best_model = randomized_search.best_estimator_\n",
    "\n",
    "# Predict on the test set\n",
    "y_pred_best = best_model.predict(X_test)\n",
    "\n",
    "# Evaluate the best model\n",
    "accuracy = accuracy_score(y_test, y_pred_best)\n",
    "print(f\"Best Model Accuracy: {accuracy:.2f}\")\n",
    "\n",
    "# Print the best hyperparameters\n",
    "print(\"Best Hyperparameters:\", randomized_search.best_params_)\n",
    "\n",
    "# Print classification report\n",
    "print(\"Classification Report:\\n\", classification_report(y_test, y_pred_best))"
   ]
  },
  {
   "cell_type": "markdown",
   "id": "9a951dd1",
   "metadata": {},
   "source": [
    "## Save our model"
   ]
  },
  {
   "cell_type": "code",
   "execution_count": null,
   "id": "66281c88",
   "metadata": {},
   "outputs": [],
   "source": [
    "import joblib\n",
    "joblib.dump(best_model, 'best_model.pkl')"
   ]
  },
  {
   "cell_type": "code",
   "execution_count": null,
   "id": "8ad503c8",
   "metadata": {},
   "outputs": [],
   "source": [
    "Routing Mechanism:"
   ]
  }
 ],
 "metadata": {
  "kernelspec": {
   "display_name": "Python 3 (ipykernel)",
   "language": "python",
   "name": "python3"
  },
  "language_info": {
   "codemirror_mode": {
    "name": "ipython",
    "version": 3
   },
   "file_extension": ".py",
   "mimetype": "text/x-python",
   "name": "python",
   "nbconvert_exporter": "python",
   "pygments_lexer": "ipython3",
   "version": "3.9.13"
  }
 },
 "nbformat": 4,
 "nbformat_minor": 5
}
